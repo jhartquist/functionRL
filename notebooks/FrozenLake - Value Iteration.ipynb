{
 "cells": [
  {
   "cell_type": "code",
   "execution_count": 1,
   "metadata": {},
   "outputs": [],
   "source": [
    "%load_ext autoreload\n",
    "%autoreload 2"
   ]
  },
  {
   "cell_type": "code",
   "execution_count": 2,
   "metadata": {},
   "outputs": [],
   "source": [
    "from functionrl.algorithms.value_iteration import value_iteration\n",
    "from functionrl.envs import make_frozen_lake\n",
    "from functionrl.display import print_pi, print_v"
   ]
  },
  {
   "cell_type": "code",
   "execution_count": 3,
   "metadata": {},
   "outputs": [],
   "source": [
    "env = make_frozen_lake()\n",
    "pi, info = value_iteration(env, gamma=0.99)"
   ]
  },
  {
   "cell_type": "code",
   "execution_count": 4,
   "metadata": {},
   "outputs": [
    {
     "name": "stdout",
     "output_type": "stream",
     "text": [
      "← ↑ ↑ ↑\n",
      "← ← ← ←\n",
      "↑ ↓ ← ←\n",
      "← → ↓ ←\n",
      "\n"
     ]
    }
   ],
   "source": [
    "print_pi(pi)"
   ]
  },
  {
   "cell_type": "code",
   "execution_count": 5,
   "metadata": {},
   "outputs": [
    {
     "name": "stdout",
     "output_type": "stream",
     "text": [
      "0.5420 0.4988 0.4707 0.4569\n",
      "0.5585 0.0000 0.3583 0.0000\n",
      "0.5918 0.6431 0.6152 0.0000\n",
      "0.0000 0.7417 0.8628 0.0000\n",
      "\n"
     ]
    }
   ],
   "source": [
    "info['steps']\n",
    "print_v(info[\"v\"])"
   ]
  }
 ],
 "metadata": {
  "interpreter": {
   "hash": "d35d6048e57f99a94b4db531e2645609cea4c6c478728927e1d4c6694b2d6fed"
  },
  "kernelspec": {
   "display_name": "Python 3 (ipykernel)",
   "language": "python",
   "name": "python3"
  },
  "language_info": {
   "codemirror_mode": {
    "name": "ipython",
    "version": 3
   },
   "file_extension": ".py",
   "mimetype": "text/x-python",
   "name": "python",
   "nbconvert_exporter": "python",
   "pygments_lexer": "ipython3",
   "version": "3.8.10"
  }
 },
 "nbformat": 4,
 "nbformat_minor": 4
}
