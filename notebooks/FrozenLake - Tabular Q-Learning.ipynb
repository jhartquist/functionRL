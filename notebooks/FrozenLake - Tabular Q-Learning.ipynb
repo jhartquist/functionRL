{
 "cells": [
  {
   "cell_type": "code",
   "execution_count": 1,
   "id": "41fddd29-8d7c-47f7-afc3-62f887a2c1ea",
   "metadata": {},
   "outputs": [],
   "source": [
    "%load_ext autoreload\n",
    "%autoreload 2"
   ]
  },
  {
   "cell_type": "code",
   "execution_count": 2,
   "id": "b5eb86ab-569e-4436-9feb-11f87ad1d158",
   "metadata": {},
   "outputs": [],
   "source": [
    "import numpy as np\n",
    "from functionrl.algorithms.tabular_q import tabular_q\n",
    "from functionrl.envs import make_frozen_lake\n",
    "from functionrl.display import print_pi, print_v"
   ]
  },
  {
   "cell_type": "code",
   "execution_count": 3,
   "id": "269217ef-fdc2-4568-8aa6-26963054f3bf",
   "metadata": {},
   "outputs": [
    {
     "name": "stdout",
     "output_type": "stream",
     "text": [
      "10000: 0.255, eps: 0.910, alpha: 0.090101\n",
      "20000: 0.490, eps: 0.820, alpha: 0.080201\n",
      "30000: 0.714, eps: 0.730, alpha: 0.070301\n",
      "40000: 0.753, eps: 0.640, alpha: 0.060401\n",
      "50000: 0.757, eps: 0.550, alpha: 0.050501\n",
      "60000: 0.740, eps: 0.460, alpha: 0.040601\n",
      "70000: 0.743, eps: 0.370, alpha: 0.030701\n",
      "80000: 0.742, eps: 0.280, alpha: 0.020801\n",
      "90000: 0.726, eps: 0.190, alpha: 0.010901\n",
      "100000: 0.760, eps: 0.100, alpha: 0.001001\n"
     ]
    }
   ],
   "source": [
    "q = tabular_q(\n",
    "    make_frozen_lake,\n",
    "    gamma=0.99,\n",
    "    alpha_max=1e-1,\n",
    "    alpha_min=1e-3,\n",
    "    alpha_decay_steps=100_000,\n",
    "    epsilon_max=1.0,\n",
    "    epsilon_min=0.1,\n",
    "    epsilon_decay_steps=100_000,\n",
    "    n_steps=100_000,\n",
    "    log_interval=10_000,\n",
    ")"
   ]
  },
  {
   "cell_type": "code",
   "execution_count": 4,
   "id": "353389b8-91c3-4ae9-bbc4-a14319a5e46e",
   "metadata": {},
   "outputs": [
    {
     "name": "stdout",
     "output_type": "stream",
     "text": [
      "← ↑ ↑ ↑\n",
      "← ← ← ←\n",
      "↑ ↓ ← ←\n",
      "← → ↓ ←\n",
      "\n",
      "0.5446 0.4904 0.4438 0.4183\n",
      "0.5595 0.0000 0.3313 0.0000\n",
      "0.5865 0.6317 0.5964 0.0000\n",
      "0.0000 0.7270 0.8408 0.0000\n",
      "\n"
     ]
    }
   ],
   "source": [
    "pi = np.argmax(q, axis=1)\n",
    "print_pi(pi)\n",
    "v = np.max(q, axis=1)\n",
    "print_v(v)"
   ]
  }
 ],
 "metadata": {
  "kernelspec": {
   "display_name": "Python 3 (ipykernel)",
   "language": "python",
   "name": "python3"
  },
  "language_info": {
   "codemirror_mode": {
    "name": "ipython",
    "version": 3
   },
   "file_extension": ".py",
   "mimetype": "text/x-python",
   "name": "python",
   "nbconvert_exporter": "python",
   "pygments_lexer": "ipython3",
   "version": "3.8.10"
  }
 },
 "nbformat": 4,
 "nbformat_minor": 5
}
